{
 "cells": [
  {
   "cell_type": "code",
   "execution_count": 1,
   "id": "551c3f4e-03f3-4c0e-8e08-d0208ca6e8b3",
   "metadata": {
    "tags": []
   },
   "outputs": [],
   "source": [
    "import numpy as np\n",
    "from scipy import linalg"
   ]
  },
  {
   "cell_type": "code",
   "execution_count": 2,
   "id": "7b567133-39e7-4fb6-bd47-caf1ddd166c3",
   "metadata": {},
   "outputs": [],
   "source": [
    "class Hidden_Markov_Model:\n",
    "    \n",
    "    def __init__(self,n_states,A,B,labels,initial_distribution=None):\n",
    "        self.n = n_states\n",
    "        self.A = A\n",
    "        self.B = B\n",
    "        self.labels = labels\n",
    "        self.classifiers = np.arange(len(self.labels),dtype=int)\n",
    "        self.dictionary = {}\n",
    "        if initial_distribution is None:\n",
    "            self.initial_distribution = np.linalg.matrix_power(self.A,2000)[0]\n",
    "        else:\n",
    "            self.intial_distribution = initial_distribution\n",
    "        \n",
    "        for c,l in zip(self.classifiers,self.labels):\n",
    "            self.dictionary[c] = l\n",
    "            \n",
    "        print(\"Please follow the labels according to the matrix A\")\n",
    "    \n",
    "    def forward_backward(self,observations):\n",
    "        \n",
    "        alpha = np.zeros((observations.shape[0], self.A.shape[0]))\n",
    "        beta = np.zeros((observations.shape[0], self.A.shape[0]))\n",
    "        \n",
    "        alpha[0, :] = self.initial_distribution * self.B[:, observations[0]]\n",
    "        beta[observations.shape[0] - 1] = np.ones((self.A.shape[0]))\n",
    "\n",
    "        for t in range(1, observations.shape[0]):\n",
    "            for j in range(self.A.shape[0]):\n",
    "                alpha[t, j] = alpha[t - 1].dot(self.A[:, j]) * self.B[j, observations[t]]\n",
    "                \n",
    "        for t in range(observations.shape[0] - 2, -1, -1):\n",
    "            for j in range(self.A.shape[0]):\n",
    "                beta[t, j] = np.dot((beta[t + 1] * self.B[:, observations[t + 1]]),self.A[j, :])\n",
    "\n",
    "\n",
    "        return alpha,beta,np.sum(alpha[-1])\n",
    "    \n",
    "    @staticmethod\n",
    "    def forward_algorithm(observations,A,B,initial_distribution):\n",
    "        alpha = np.zeros((observations.shape[0], A.shape[0]))\n",
    "        alpha[0, :] = initial_distribution * B[:, observations[0]]\n",
    "\n",
    "        for t in range(1, observations.shape[0]):\n",
    "            for j in range(A.shape[0]):\n",
    "                alpha[t, j] = alpha[t - 1].dot(A[:, j]) * B[j, observations[t]]\n",
    "\n",
    "        return alpha\n",
    "    \n",
    "    @staticmethod\n",
    "    def backward_algorithm(observations,A,B):\n",
    "        beta = np.zeros((observations.shape[0], A.shape[0]))\n",
    "        beta[observations.shape[0] - 1] = np.ones((A.shape[0]))\n",
    "\n",
    "        for t in range(observations.shape[0] - 2, -1, -1):\n",
    "            for j in range(A.shape[0]):\n",
    "                beta[t, j] = (beta[t + 1] * B[:, observations[t + 1]]).dot(A[j, :])\n",
    "\n",
    "        return beta\n",
    "\n",
    "        \n",
    "    \n",
    "    def viterbi(self,observations):\n",
    "        \n",
    "        T = int(observations.shape[0])\n",
    "        M = int(self.A.shape[0])\n",
    "\n",
    "        gamma = np.zeros((T,M))\n",
    "        psi = np.zeros((1,T))\n",
    "        gamma[0,:] = self.initial_distribution * self.B[:, observations[0]]\n",
    "        psi[0] = np.argmax(gamma[0,:])\n",
    "        Most_likely_sequence = []\n",
    "\n",
    "        for i in range(1,T):\n",
    "            gamma[i,:] = np.max(gamma[i-1,:])*self.A[np.argmax(gamma[i-1,:]),:]*self.B[:,observations[i]]\n",
    "            psi[:,i] = np.argmax(gamma[i,:])\n",
    "        \n",
    "        psi = psi.astype(int)\n",
    "\n",
    "        for i in range(len(psi.T)):\n",
    "            Most_likely_sequence.append(self.dictionary[psi[0][i]])\n",
    "            \n",
    "            \n",
    "        return gamma, Most_likely_sequence\n",
    "    \n",
    "    def baum_welch(self,observations,n_iter=100):\n",
    "        \n",
    "        A = self.A\n",
    "        B = self.B\n",
    "        M = A.shape[0]\n",
    "        T = len(observations)\n",
    "        initial_distribution = self.initial_distribution\n",
    "\n",
    "        for n in range(n_iter):\n",
    "            \n",
    "            alpha = Hidden_Markov_Model.forward_algorithm(observations,A,B,initial_distribution)\n",
    "            beta = Hidden_Markov_Model.backward_algorithm(observations,A,B)\n",
    "           \n",
    "            Eta = np.zeros((M, M, T - 1))\n",
    "            \n",
    "            \n",
    "            for t in range(T - 1):\n",
    "                den = np.dot(np.dot(alpha[t, :].T, A) * B[:, observations[t + 1]].T, beta[t + 1, :])\n",
    "                for i in range(M):\n",
    "                    num = alpha[t, i] * A[i, :] * B[:, observations[t + 1]].T * beta[t + 1, :].T\n",
    "                    Eta[i, :, t] = num / den\n",
    "\n",
    "            gamma = np.sum(Eta, axis=1)\n",
    "            A = np.sum(Eta, 2) / np.sum(gamma, axis=1).reshape((-1, 1))\n",
    "\n",
    "            gamma = np.hstack((gamma, np.sum(Eta[:, :, T - 2], axis=0).reshape((-1, 1))))\n",
    "\n",
    "            K = B.shape[1]\n",
    "            den = np.sum(gamma, axis=1)\n",
    "            for l in range(K):\n",
    "                B[:, l] = np.sum(gamma[:, observations == l], axis=1)\n",
    "\n",
    "            B = np.divide(B, den.reshape((-1, 1)))\n",
    "\n",
    "        return A,B\n"
   ]
  },
  {
   "cell_type": "code",
   "execution_count": 3,
   "id": "d28f739d-604f-4d4f-96fb-39bc3e0ac614",
   "metadata": {},
   "outputs": [
    {
     "name": "stdout",
     "output_type": "stream",
     "text": [
      "Please follow the labels according to the matrix A\n"
     ]
    }
   ],
   "source": [
    "A = np.array([[0.5,0.5],[0.3,0.7]])\n",
    "B = np.array([[0.8,0.2],[0.4,0.6]])\n",
    "stationary_distribution = np.array([0.375,0.625])\n",
    "Hmm = Hidden_Markov_Model(2,A,B,[\"Rainy\",\"Sunny\"])\n",
    "Observed_sequence = np.array([0,0,1])"
   ]
  },
  {
   "cell_type": "code",
   "execution_count": 4,
   "id": "ef38aff0-efdd-422f-ae12-24b549db6e24",
   "metadata": {},
   "outputs": [
    {
     "data": {
      "text/plain": [
       "(array([[0.3   , 0.25  ],\n",
       "        [0.18  , 0.13  ],\n",
       "        [0.0258, 0.1086]]),\n",
       " array([[0.256 , 0.2304],\n",
       "        [0.4   , 0.48  ],\n",
       "        [1.    , 1.    ]]),\n",
       " 0.13439999999998964)"
      ]
     },
     "execution_count": 4,
     "metadata": {},
     "output_type": "execute_result"
    }
   ],
   "source": [
    "Hmm.forward_backward(Observed_sequence)"
   ]
  },
  {
   "cell_type": "markdown",
   "id": "ae1d11a2-2016-46e5-b1a9-151647a231d0",
   "metadata": {},
   "source": [
    "Sad state - 0\n",
    "Happy - 1"
   ]
  },
  {
   "cell_type": "code",
   "execution_count": 5,
   "id": "80c67d04-2563-4dbf-994e-201a4a320c42",
   "metadata": {},
   "outputs": [
    {
     "data": {
      "text/plain": [
       "(array([[0.3  , 0.25 ],\n",
       "        [0.12 , 0.06 ],\n",
       "        [0.012, 0.036]]),\n",
       " ['Rainy', 'Rainy', 'Sunny'])"
      ]
     },
     "execution_count": 5,
     "metadata": {},
     "output_type": "execute_result"
    }
   ],
   "source": [
    "Hmm.viterbi(Observed_sequence)"
   ]
  },
  {
   "cell_type": "code",
   "execution_count": 6,
   "id": "74f18196-bfb9-4c02-b4d1-ae913b0cfbd7",
   "metadata": {},
   "outputs": [
    {
     "data": {
      "text/plain": [
       "(array([[2.1542712e-01, 7.8457288e-01],\n",
       "        [2.0952416e-31, 1.0000000e+00]]),\n",
       " array([[1.0000000e+00, 7.7032125e-83],\n",
       "        [5.6914576e-01, 4.3085424e-01]]))"
      ]
     },
     "execution_count": 6,
     "metadata": {},
     "output_type": "execute_result"
    }
   ],
   "source": [
    "Hmm.baum_welch(Observed_sequence)"
   ]
  },
  {
   "cell_type": "code",
   "execution_count": null,
   "id": "48da9c34-3d18-48f6-9d0d-8bc176a4d7d6",
   "metadata": {},
   "outputs": [],
   "source": []
  },
  {
   "cell_type": "code",
   "execution_count": null,
   "id": "0c833284",
   "metadata": {},
   "outputs": [],
   "source": []
  }
 ],
 "metadata": {
  "kernelspec": {
   "display_name": "Python 3 (ipykernel)",
   "language": "python",
   "name": "python3"
  },
  "language_info": {
   "codemirror_mode": {
    "name": "ipython",
    "version": 3
   },
   "file_extension": ".py",
   "mimetype": "text/x-python",
   "name": "python",
   "nbconvert_exporter": "python",
   "pygments_lexer": "ipython3",
   "version": "3.7.6"
  }
 },
 "nbformat": 4,
 "nbformat_minor": 5
}
